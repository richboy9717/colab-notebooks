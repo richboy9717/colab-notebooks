{
  "nbformat": 4,
  "nbformat_minor": 0,
  "metadata": {
    "colab": {
      "name": "Modul-3 -Amaliyot-tozalash .ipynb",
      "provenance": [],
      "collapsed_sections": [],
      "include_colab_link": true
    },
    "kernelspec": {
      "name": "python3",
      "display_name": "Python 3"
    },
    "language_info": {
      "name": "python"
    }
  },
  "cells": [
    {
      "cell_type": "markdown",
      "metadata": {
        "id": "view-in-github",
        "colab_type": "text"
      },
      "source": [
        "<a href=\"https://colab.research.google.com/github/richboy9717/colab-notebooks/blob/main/3-modul%20yakuniy.%20Ma'lumotlarni%20tozalash.ipynb\" target=\"_parent\"><img src=\"https://colab.research.google.com/assets/colab-badge.svg\" alt=\"Open In Colab\"/></a>"
      ]
    },
    {
      "cell_type": "markdown",
      "metadata": {
        "id": "poH5phdmhSLa"
      },
      "source": [
        "# ![Imgur](https://i.imgur.com/5pXzCIu.png)\n",
        "\n",
        "# **DATA SCIENCE VA SUN'IY INTELLEKT PRAKTIKUM**\n",
        "\n",
        "## 3.2 Ma'lumotlarni tayyorlash\n",
        "\n",
        "# **AMALIYOT**\n",
        "## Ma'lumotlarga ishlov berish\n",
        "\n",
        "\n",
        "\n"
      ]
    },
    {
      "cell_type": "code",
      "metadata": {
        "id": "wX08M2KIMfHY"
      },
      "source": [
        "import pandas as pd\n",
        "import numpy as np"
      ],
      "execution_count": null,
      "outputs": []
    },
    {
      "cell_type": "code",
      "metadata": {
        "id": "E-eS1Sx-MiTH",
        "colab": {
          "base_uri": "https://localhost:8080/",
          "height": 337
        },
        "outputId": "50124aad-8e7f-48e9-e11f-083d0cc5e450"
      },
      "source": [
        "df = pd.read_csv(\"https://raw.githubusercontent.com/mukhammad-irmatov/health_dataset/main/healt_info.csv\")\n",
        "df.head(3)"
      ],
      "execution_count": null,
      "outputs": [
        {
          "output_type": "execute_result",
          "data": {
            "text/html": [
              "<div>\n",
              "<style scoped>\n",
              "    .dataframe tbody tr th:only-of-type {\n",
              "        vertical-align: middle;\n",
              "    }\n",
              "\n",
              "    .dataframe tbody tr th {\n",
              "        vertical-align: top;\n",
              "    }\n",
              "\n",
              "    .dataframe thead th {\n",
              "        text-align: right;\n",
              "    }\n",
              "</style>\n",
              "<table border=\"1\" class=\"dataframe\">\n",
              "  <thead>\n",
              "    <tr style=\"text-align: right;\">\n",
              "      <th></th>\n",
              "      <th>Sno</th>\n",
              "      <th>AGE</th>\n",
              "      <th>SEX</th>\n",
              "      <th>CASTE_NAME</th>\n",
              "      <th>CATEGORY_CODE</th>\n",
              "      <th>CATEGORY_NAME</th>\n",
              "      <th>SURGERY_CODE</th>\n",
              "      <th>SURGERY</th>\n",
              "      <th>VILLAGE</th>\n",
              "      <th>MANDAL_NAME</th>\n",
              "      <th>DISTRICT_NAME</th>\n",
              "      <th>PREAUTH_DATE</th>\n",
              "      <th>PREAUTH_AMT</th>\n",
              "      <th>CLAIM_DATE</th>\n",
              "      <th>CLAIM_AMOUNT</th>\n",
              "      <th>HOSP_NAME</th>\n",
              "      <th>HOSP_TYPE</th>\n",
              "      <th>HOSP_DISTRICT</th>\n",
              "      <th>SURGERY_DATE</th>\n",
              "      <th>DISCHARGE_DATE</th>\n",
              "      <th>Mortality Y / N</th>\n",
              "      <th>MORTALITY_DATE</th>\n",
              "      <th>SRC_REGISTRATION</th>\n",
              "    </tr>\n",
              "  </thead>\n",
              "  <tbody>\n",
              "    <tr>\n",
              "      <th>0</th>\n",
              "      <td>1</td>\n",
              "      <td>56</td>\n",
              "      <td>Female</td>\n",
              "      <td>BC</td>\n",
              "      <td>M6</td>\n",
              "      <td>NEPHROLOGY</td>\n",
              "      <td>M6.5</td>\n",
              "      <td>Maintenance Hemodialysis For Crf</td>\n",
              "      <td>Lolugu</td>\n",
              "      <td>Ponduru</td>\n",
              "      <td>Srikakulam</td>\n",
              "      <td>03-08-2013 20:38</td>\n",
              "      <td>12500</td>\n",
              "      <td>22-03-2017 20:25</td>\n",
              "      <td>11000</td>\n",
              "      <td>Rims Govt. General Hospital, Srikakulam</td>\n",
              "      <td>G</td>\n",
              "      <td>Srikakulam</td>\n",
              "      <td>06-08-2013 00:00</td>\n",
              "      <td>07-09-2013 00:00</td>\n",
              "      <td>NO</td>\n",
              "      <td>NaN</td>\n",
              "      <td>D</td>\n",
              "    </tr>\n",
              "    <tr>\n",
              "      <th>1</th>\n",
              "      <td>2</td>\n",
              "      <td>37</td>\n",
              "      <td>Male</td>\n",
              "      <td>BC</td>\n",
              "      <td>M6</td>\n",
              "      <td>NEPHROLOGY</td>\n",
              "      <td>M6.5</td>\n",
              "      <td>Maintenance Hemodialysis For Crf</td>\n",
              "      <td>Borivanka</td>\n",
              "      <td>Kaviti</td>\n",
              "      <td>Srikakulam</td>\n",
              "      <td>06-08-2013 07:26</td>\n",
              "      <td>12500</td>\n",
              "      <td>22-03-2017 20:25</td>\n",
              "      <td>11000</td>\n",
              "      <td>Rims Govt. General Hospital, Srikakulam</td>\n",
              "      <td>G</td>\n",
              "      <td>Srikakulam</td>\n",
              "      <td>08-08-2013 00:00</td>\n",
              "      <td>09-09-2013 00:00</td>\n",
              "      <td>NO</td>\n",
              "      <td>NaN</td>\n",
              "      <td>D</td>\n",
              "    </tr>\n",
              "    <tr>\n",
              "      <th>2</th>\n",
              "      <td>3</td>\n",
              "      <td>50</td>\n",
              "      <td>Male</td>\n",
              "      <td>BC</td>\n",
              "      <td>M6</td>\n",
              "      <td>NEPHROLOGY</td>\n",
              "      <td>M6.5</td>\n",
              "      <td>Maintenance Hemodialysis For Crf</td>\n",
              "      <td>Kapasakuddi</td>\n",
              "      <td>Kaviti</td>\n",
              "      <td>Srikakulam</td>\n",
              "      <td>09-08-2013 18:30</td>\n",
              "      <td>12500</td>\n",
              "      <td>22-03-2017 20:25</td>\n",
              "      <td>11500</td>\n",
              "      <td>Rims Govt. General Hospital, Srikakulam</td>\n",
              "      <td>G</td>\n",
              "      <td>Srikakulam</td>\n",
              "      <td>15-08-2013 00:00</td>\n",
              "      <td>18-10-2013 00:00</td>\n",
              "      <td>NO</td>\n",
              "      <td>NaN</td>\n",
              "      <td>D</td>\n",
              "    </tr>\n",
              "  </tbody>\n",
              "</table>\n",
              "</div>"
            ],
            "text/plain": [
              "   Sno  AGE     SEX  ... Mortality Y / N MORTALITY_DATE SRC_REGISTRATION\n",
              "0    1   56  Female  ...              NO            NaN                D\n",
              "1    2   37    Male  ...              NO            NaN                D\n",
              "2    3   50    Male  ...              NO            NaN                D\n",
              "\n",
              "[3 rows x 23 columns]"
            ]
          },
          "metadata": {},
          "execution_count": 55
        }
      ]
    },
    {
      "cell_type": "markdown",
      "metadata": {
        "id": "tsm8uZ0JMr5m"
      },
      "source": [
        "Bu dataset sug'urta kompaniyasining real ma'lumotlardan tuzilgan. Bu datasetda 480000 qator sug'urta ma'lumotlar tashkil topgan.\n",
        "Quyida datasetning ba'zi ustunlari haqida qisqacha ma'lumot\n",
        "\n",
        "*   Sno = seriya raqami \n",
        "*   AGE = yoshi\n",
        "*   SEX = jinsi (female = ayol, male = erkak)\n",
        "*   CASTE_NAME = kasta nomi (Hindistonda har bir inson ma'lum bir kastaga oid bo'ladi)\n",
        "*   CATEGORY_CODE = kategoriya kodi\n",
        "*   CATEGORY_Name = kategoriya nomi\n",
        "*   SURGERY_CODE = operatsiya kodi\n",
        "*   Mandal_Name = mandal nomlanishi ya'ni familiyasi desak ham bo'ladi\n",
        "*   Mortality Y/N = vafot etgan yoki vafot etmaganligi\n",
        "*   MORTALITY_DATE = qachon vafot etganligi\n",
        "\n",
        "\n",
        "\n"
      ]
    },
    {
      "cell_type": "markdown",
      "metadata": {
        "id": "FNLOb9yhxI0b"
      },
      "source": [
        "### **1-mashq**. Datasetdagi barcha takrorlangan qatorlar sonini toping"
      ]
    },
    {
      "cell_type": "code",
      "metadata": {
        "id": "o64K3q-UBNAm",
        "colab": {
          "base_uri": "https://localhost:8080/"
        },
        "outputId": "d44b9d82-6048-4ab1-cace-d3f03979f214"
      },
      "source": [
        "# Javobni shuyerga yozing\n",
        "df.duplicated().sum()"
      ],
      "execution_count": null,
      "outputs": [
        {
          "output_type": "execute_result",
          "data": {
            "text/plain": [
              "0"
            ]
          },
          "metadata": {},
          "execution_count": 56
        }
      ]
    },
    {
      "cell_type": "code",
      "metadata": {
        "cellView": "form",
        "id": "2aiD_0BiOrsy"
      },
      "source": [
        ""
      ],
      "execution_count": null,
      "outputs": []
    },
    {
      "cell_type": "markdown",
      "metadata": {
        "id": "9GJiUd445Kr1"
      },
      "source": [
        "#### **2-mashq**. Datasetdagi quyidagi ustunlar o'chirib yuborilsin:<br>\n",
        "*   Sno\n",
        "*   CATEGORY_CODE\n",
        "*   SURGERY_CODE\n",
        "*   MANDAL_NAME\n",
        "*   DISTRICT_NAME\n",
        "*   HOSP_DISTRICT\n",
        "<BR>\n"
      ]
    },
    {
      "cell_type": "code",
      "metadata": {
        "id": "W8LCqh3466n-"
      },
      "source": [
        "# Javobni shuyerga yozing\n",
        "df.drop(['CATEGORY_CODE','SURGERY_CODE','MANDAL_NAME','DISTRICT_NAME','HOSP_DISTRICT'],axis=1,inplace=True)"
      ],
      "execution_count": null,
      "outputs": []
    },
    {
      "cell_type": "code",
      "metadata": {
        "cellView": "form",
        "id": "tQmeaOg19flk"
      },
      "source": [
        ""
      ],
      "execution_count": null,
      "outputs": []
    },
    {
      "cell_type": "markdown",
      "metadata": {
        "id": "wVuuU-XZO-0Y"
      },
      "source": [
        "#### **3-mashq**. Datasetdagi sex(jinsi) nomli qatordagi qiymatlarni unique funksiyasi orqali tekshiring.\n",
        "\n",
        "\n"
      ]
    },
    {
      "cell_type": "code",
      "metadata": {
        "id": "i9e_7Icu0Xms",
        "colab": {
          "base_uri": "https://localhost:8080/"
        },
        "outputId": "3cb7cf61-8543-4747-fa36-3c2dc42a0a40"
      },
      "source": [
        "# Javobni shuyerga yozing\n",
        "df['SEX'].unique()"
      ],
      "execution_count": null,
      "outputs": [
        {
          "output_type": "execute_result",
          "data": {
            "text/plain": [
              "array(['Female', 'Male', 'Male(Child)', 'Female(Child)', 'FEMALE'],\n",
              "      dtype=object)"
            ]
          },
          "metadata": {},
          "execution_count": 58
        }
      ]
    },
    {
      "cell_type": "code",
      "metadata": {
        "cellView": "form",
        "id": "Wa7bvsLs05wT"
      },
      "source": [
        ""
      ],
      "execution_count": null,
      "outputs": []
    },
    {
      "cell_type": "markdown",
      "metadata": {
        "id": "nfwZ0uQo1xXm"
      },
      "source": [
        "#### **4-mashq**. Datasetdagi sex(jinsi) nomli qatordagi qiymatlarni **Erkak** va **Ayol** ga o'zgartiring:\n",
        "O'zgartirish quyidagicha bo'lsin:\n",
        "\n",
        "\n",
        "*   Male -> Erkak\n",
        "*   Male(child) -> Erkak\n",
        "*   Female - > Ayol\n",
        "*   Female(child) - Ayol\n",
        "*   MALE -> Erkak\n",
        "*   FEMALE -> Ayol\n",
        "\n",
        "\n",
        "\n"
      ]
    },
    {
      "cell_type": "code",
      "metadata": {
        "id": "54IqaOmz159z"
      },
      "source": [
        "# Javobni shuyerga yozing\n",
        "dict = {'Male':'Erkak','Male(child)':'Erkak','Female':'Ayol','Female(child)':'Ayol','MALE':'Erkak','FEMALE':'Ayol'}\n",
        "df['SEX'] = df['SEX'].map(dict)"
      ],
      "execution_count": null,
      "outputs": []
    },
    {
      "cell_type": "code",
      "metadata": {
        "cellView": "form",
        "id": "ZM7XuQc31_Z1"
      },
      "source": [
        ""
      ],
      "execution_count": null,
      "outputs": []
    },
    {
      "cell_type": "markdown",
      "metadata": {
        "id": "t_KWHWqj3D38"
      },
      "source": [
        "#### **5-mashq**. Endi xuddi shu SEX columndagi ma'lumotlarni raqamlarga o'zgartiring: Erkaklarni 1 raqamiga, Ayollarni 0 raqamiga o'zgartiring.\n",
        "*   Erkak -> 1\n",
        "*   Ayol -> 0"
      ]
    },
    {
      "cell_type": "code",
      "metadata": {
        "id": "CU3ygcnh3LAd"
      },
      "source": [
        "# Javobni shuyerga yozing\n",
        "df['SEX'] = df['SEX'].replace({'Erkak':1,'Ayol':0})\n",
        "df"
      ],
      "execution_count": null,
      "outputs": []
    },
    {
      "cell_type": "code",
      "metadata": {
        "cellView": "form",
        "id": "Ou0DKvEm3ZxW"
      },
      "source": [
        ""
      ],
      "execution_count": null,
      "outputs": []
    },
    {
      "cell_type": "markdown",
      "metadata": {
        "id": "i4n7ulS75WA4"
      },
      "source": [
        "#### **6-mashq**. Shu jarayonni HOSP_TYPE ustuni uchun ham amalga oshiring. \n",
        "*   G - General hospital (umumiy kasalxona) degani\n",
        "*   C - Special hospital (maxsus kasalxona) degani\n",
        "<br><b>O'zgarish quyidagicha bo'lsin:</b>\n",
        "*   G -> Umumiy \n",
        "*   C -> Maxsus\n"
      ]
    },
    {
      "cell_type": "code",
      "metadata": {
        "id": "BEokSEre43GK"
      },
      "source": [
        "# Javobni shuyerga yozing\n",
        "df['HOSP_TYPE'] = df['HOSP_TYPE'].map({'G':'Umumiy','C':'Maxsus'})\n",
        "df"
      ],
      "execution_count": null,
      "outputs": []
    },
    {
      "cell_type": "code",
      "metadata": {
        "cellView": "form",
        "id": "ALhBzKu35lBb"
      },
      "source": [
        ""
      ],
      "execution_count": null,
      "outputs": []
    },
    {
      "cell_type": "markdown",
      "metadata": {
        "id": "4YozaezB4qqa"
      },
      "source": [
        "#### **7-mashq**. O'zgartirish amalga oshirilgach, HOSP_TYPE ustunida qancha Umumiy va qancha Maxsus kasalxonalar borligini ham aniqlang\n"
      ]
    },
    {
      "cell_type": "code",
      "metadata": {
        "id": "XNa8b4s25IUN",
        "colab": {
          "base_uri": "https://localhost:8080/"
        },
        "outputId": "9b41af16-5a44-4581-e762-a55e85b1ea76"
      },
      "source": [
        "# Javobni shuyerga yozing\n",
        "df['HOSP_TYPE'].value_counts()"
      ],
      "execution_count": null,
      "outputs": [
        {
          "output_type": "execute_result",
          "data": {
            "text/plain": [
              "Maxsus    241139\n",
              "Umumiy     94255\n",
              "Name: HOSP_TYPE, dtype: int64"
            ]
          },
          "metadata": {},
          "execution_count": 62
        }
      ]
    },
    {
      "cell_type": "code",
      "metadata": {
        "cellView": "form",
        "id": "j472LUxgU0P-"
      },
      "source": [
        ""
      ],
      "execution_count": null,
      "outputs": []
    },
    {
      "cell_type": "markdown",
      "metadata": {
        "id": "kEr2LYiJ_I-k"
      },
      "source": [
        "#### **8-mashq**. Datasetda qancha takrorlangan qatorlar borligini aniqlang  \n"
      ]
    },
    {
      "cell_type": "code",
      "metadata": {
        "id": "7EzWPhDZ_i5o",
        "colab": {
          "base_uri": "https://localhost:8080/"
        },
        "outputId": "3f475c0f-6d62-4327-fc37-7ad666bbd6bc"
      },
      "source": [
        "# Javobni shuyerga yozing\n",
        "df.duplicated().sum()"
      ],
      "execution_count": null,
      "outputs": [
        {
          "output_type": "execute_result",
          "data": {
            "text/plain": [
              "0"
            ]
          },
          "metadata": {},
          "execution_count": 63
        }
      ]
    },
    {
      "cell_type": "code",
      "metadata": {
        "cellView": "form",
        "id": "J3yF9CKM5eTs"
      },
      "source": [
        ""
      ],
      "execution_count": null,
      "outputs": []
    },
    {
      "cell_type": "markdown",
      "metadata": {
        "id": "6gphfgtd_nJK"
      },
      "source": [
        "#### **9-mashq**. Datasetda barcha takrorlangan qatorlarni o'chirib yuboring  \n"
      ]
    },
    {
      "cell_type": "code",
      "metadata": {
        "id": "DdsEuZXg_tEd",
        "colab": {
          "base_uri": "https://localhost:8080/",
          "height": 504
        },
        "outputId": "6b947617-a3d1-4aa1-df75-23513c6ff946"
      },
      "source": [
        "# Javobni shuyerga yozing\n",
        "df.drop_duplicates().head()"
      ],
      "execution_count": null,
      "outputs": [
        {
          "output_type": "execute_result",
          "data": {
            "text/html": [
              "<div>\n",
              "<style scoped>\n",
              "    .dataframe tbody tr th:only-of-type {\n",
              "        vertical-align: middle;\n",
              "    }\n",
              "\n",
              "    .dataframe tbody tr th {\n",
              "        vertical-align: top;\n",
              "    }\n",
              "\n",
              "    .dataframe thead th {\n",
              "        text-align: right;\n",
              "    }\n",
              "</style>\n",
              "<table border=\"1\" class=\"dataframe\">\n",
              "  <thead>\n",
              "    <tr style=\"text-align: right;\">\n",
              "      <th></th>\n",
              "      <th>Sno</th>\n",
              "      <th>AGE</th>\n",
              "      <th>SEX</th>\n",
              "      <th>CASTE_NAME</th>\n",
              "      <th>CATEGORY_NAME</th>\n",
              "      <th>SURGERY</th>\n",
              "      <th>VILLAGE</th>\n",
              "      <th>PREAUTH_DATE</th>\n",
              "      <th>PREAUTH_AMT</th>\n",
              "      <th>CLAIM_DATE</th>\n",
              "      <th>CLAIM_AMOUNT</th>\n",
              "      <th>HOSP_NAME</th>\n",
              "      <th>HOSP_TYPE</th>\n",
              "      <th>SURGERY_DATE</th>\n",
              "      <th>DISCHARGE_DATE</th>\n",
              "      <th>Mortality Y / N</th>\n",
              "      <th>MORTALITY_DATE</th>\n",
              "      <th>SRC_REGISTRATION</th>\n",
              "    </tr>\n",
              "  </thead>\n",
              "  <tbody>\n",
              "    <tr>\n",
              "      <th>0</th>\n",
              "      <td>1</td>\n",
              "      <td>56</td>\n",
              "      <td>0.0</td>\n",
              "      <td>BC</td>\n",
              "      <td>NEPHROLOGY</td>\n",
              "      <td>Maintenance Hemodialysis For Crf</td>\n",
              "      <td>Lolugu</td>\n",
              "      <td>03-08-2013 20:38</td>\n",
              "      <td>12500</td>\n",
              "      <td>22-03-2017 20:25</td>\n",
              "      <td>11000</td>\n",
              "      <td>Rims Govt. General Hospital, Srikakulam</td>\n",
              "      <td>Umumiy</td>\n",
              "      <td>06-08-2013 00:00</td>\n",
              "      <td>07-09-2013 00:00</td>\n",
              "      <td>NO</td>\n",
              "      <td>NaN</td>\n",
              "      <td>D</td>\n",
              "    </tr>\n",
              "    <tr>\n",
              "      <th>1</th>\n",
              "      <td>2</td>\n",
              "      <td>37</td>\n",
              "      <td>1.0</td>\n",
              "      <td>BC</td>\n",
              "      <td>NEPHROLOGY</td>\n",
              "      <td>Maintenance Hemodialysis For Crf</td>\n",
              "      <td>Borivanka</td>\n",
              "      <td>06-08-2013 07:26</td>\n",
              "      <td>12500</td>\n",
              "      <td>22-03-2017 20:25</td>\n",
              "      <td>11000</td>\n",
              "      <td>Rims Govt. General Hospital, Srikakulam</td>\n",
              "      <td>Umumiy</td>\n",
              "      <td>08-08-2013 00:00</td>\n",
              "      <td>09-09-2013 00:00</td>\n",
              "      <td>NO</td>\n",
              "      <td>NaN</td>\n",
              "      <td>D</td>\n",
              "    </tr>\n",
              "    <tr>\n",
              "      <th>2</th>\n",
              "      <td>3</td>\n",
              "      <td>50</td>\n",
              "      <td>1.0</td>\n",
              "      <td>BC</td>\n",
              "      <td>NEPHROLOGY</td>\n",
              "      <td>Maintenance Hemodialysis For Crf</td>\n",
              "      <td>Kapasakuddi</td>\n",
              "      <td>09-08-2013 18:30</td>\n",
              "      <td>12500</td>\n",
              "      <td>22-03-2017 20:25</td>\n",
              "      <td>11500</td>\n",
              "      <td>Rims Govt. General Hospital, Srikakulam</td>\n",
              "      <td>Umumiy</td>\n",
              "      <td>15-08-2013 00:00</td>\n",
              "      <td>18-10-2013 00:00</td>\n",
              "      <td>NO</td>\n",
              "      <td>NaN</td>\n",
              "      <td>D</td>\n",
              "    </tr>\n",
              "    <tr>\n",
              "      <th>3</th>\n",
              "      <td>4</td>\n",
              "      <td>45</td>\n",
              "      <td>1.0</td>\n",
              "      <td>BC</td>\n",
              "      <td>NEPHROLOGY</td>\n",
              "      <td>Maintenance Hemodialysis For Crf</td>\n",
              "      <td>Telikipenta</td>\n",
              "      <td>24-08-2013 19:37</td>\n",
              "      <td>12500</td>\n",
              "      <td>22-03-2017 20:25</td>\n",
              "      <td>11000</td>\n",
              "      <td>Rims Govt. General Hospital, Srikakulam</td>\n",
              "      <td>Umumiy</td>\n",
              "      <td>24-08-2013 00:00</td>\n",
              "      <td>27-09-2013 00:00</td>\n",
              "      <td>NO</td>\n",
              "      <td>NaN</td>\n",
              "      <td>D</td>\n",
              "    </tr>\n",
              "    <tr>\n",
              "      <th>4</th>\n",
              "      <td>5</td>\n",
              "      <td>54</td>\n",
              "      <td>1.0</td>\n",
              "      <td>BC</td>\n",
              "      <td>NEPHROLOGY</td>\n",
              "      <td>Maintenance Hemodialysis For Crf</td>\n",
              "      <td>Thandemvalasa</td>\n",
              "      <td>28-08-2013 17:03</td>\n",
              "      <td>12500</td>\n",
              "      <td>22-03-2017 20:25</td>\n",
              "      <td>11000</td>\n",
              "      <td>Rims Govt. General Hospital, Srikakulam</td>\n",
              "      <td>Umumiy</td>\n",
              "      <td>31-08-2013 00:00</td>\n",
              "      <td>02-10-2013 00:00</td>\n",
              "      <td>NO</td>\n",
              "      <td>NaN</td>\n",
              "      <td>D</td>\n",
              "    </tr>\n",
              "  </tbody>\n",
              "</table>\n",
              "</div>"
            ],
            "text/plain": [
              "   Sno  AGE  SEX  ... Mortality Y / N MORTALITY_DATE SRC_REGISTRATION\n",
              "0    1   56  0.0  ...              NO            NaN                D\n",
              "1    2   37  1.0  ...              NO            NaN                D\n",
              "2    3   50  1.0  ...              NO            NaN                D\n",
              "3    4   45  1.0  ...              NO            NaN                D\n",
              "4    5   54  1.0  ...              NO            NaN                D\n",
              "\n",
              "[5 rows x 18 columns]"
            ]
          },
          "metadata": {},
          "execution_count": 64
        }
      ]
    },
    {
      "cell_type": "code",
      "metadata": {
        "cellView": "form",
        "id": "sy_c4uyI_t6f"
      },
      "source": [
        ""
      ],
      "execution_count": null,
      "outputs": []
    },
    {
      "cell_type": "markdown",
      "metadata": {
        "id": "bN26F9LP_2RE"
      },
      "source": [
        "#### **10-mashq**. Datasetdan shifoxona turiga ko'ra (umumiy va maxsus), ClAIM_AMOUNTning o'rtacha qiymatlarini toping.\n"
      ]
    },
    {
      "cell_type": "code",
      "metadata": {
        "id": "t2NcocXLFI78",
        "colab": {
          "base_uri": "https://localhost:8080/"
        },
        "outputId": "16fe67df-2e77-4832-d292-cf7bbd96ccef"
      },
      "source": [
        "# Javobni shuyerga yozing\n",
        "df.groupby('HOSP_TYPE')['CLAIM_AMOUNT'].mean()"
      ],
      "execution_count": null,
      "outputs": [
        {
          "output_type": "execute_result",
          "data": {
            "text/plain": [
              "HOSP_TYPE\n",
              "Maxsus    30272.214457\n",
              "Umumiy    22683.900769\n",
              "Name: CLAIM_AMOUNT, dtype: float64"
            ]
          },
          "metadata": {},
          "execution_count": 65
        }
      ]
    },
    {
      "cell_type": "code",
      "metadata": {
        "cellView": "form",
        "id": "vpa7vDJWAc6u"
      },
      "source": [
        ""
      ],
      "execution_count": null,
      "outputs": []
    },
    {
      "cell_type": "markdown",
      "metadata": {
        "id": "7QnvZvW6F3Su"
      },
      "source": [
        "#### **11-mashq**. Datasetdan shifoxona turiga ko'ra (umumiy va maxsus), ClAIM_AMOUNTning minimum qiymatlarini toping.\n"
      ]
    },
    {
      "cell_type": "code",
      "metadata": {
        "id": "5K42PI7tF0On",
        "colab": {
          "base_uri": "https://localhost:8080/"
        },
        "outputId": "1186a462-9d33-47c0-e568-2d353f0c2419"
      },
      "source": [
        "# Javobni shuyerga yozing\n",
        "df.groupby('HOSP_TYPE')['CLAIM_AMOUNT'].min()"
      ],
      "execution_count": null,
      "outputs": [
        {
          "output_type": "execute_result",
          "data": {
            "text/plain": [
              "HOSP_TYPE\n",
              "Maxsus    2\n",
              "Umumiy    2\n",
              "Name: CLAIM_AMOUNT, dtype: int64"
            ]
          },
          "metadata": {},
          "execution_count": 72
        }
      ]
    },
    {
      "cell_type": "code",
      "metadata": {
        "cellView": "form",
        "id": "znwYPfq5F0Sy"
      },
      "source": [
        ""
      ],
      "execution_count": null,
      "outputs": []
    },
    {
      "cell_type": "markdown",
      "metadata": {
        "id": "KQKllXlaF5D7"
      },
      "source": [
        "#### **12-mashq**. Datasetdan shifoxona turiga ko'ra (umumiy va maxsus), CLAIM_AMOUNTning maksimum qiymatlarini toping.\n"
      ]
    },
    {
      "cell_type": "code",
      "metadata": {
        "id": "7RNQVzsCF8-m",
        "colab": {
          "base_uri": "https://localhost:8080/"
        },
        "outputId": "a4f59c42-3d9e-4280-bb07-583ac2c31150"
      },
      "source": [
        "# Javobni shuyerga yozing\n",
        "df.groupby('HOSP_TYPE')['CLAIM_AMOUNT'].max()"
      ],
      "execution_count": null,
      "outputs": [
        {
          "output_type": "execute_result",
          "data": {
            "text/plain": [
              "HOSP_TYPE\n",
              "Maxsus    520000\n",
              "Umumiy    520000\n",
              "Name: CLAIM_AMOUNT, dtype: int64"
            ]
          },
          "metadata": {},
          "execution_count": 67
        }
      ]
    },
    {
      "cell_type": "code",
      "metadata": {
        "cellView": "form",
        "id": "PM-8O6dZF-c_"
      },
      "source": [
        ""
      ],
      "execution_count": null,
      "outputs": []
    },
    {
      "cell_type": "markdown",
      "metadata": {
        "id": "JhL3fPU4HJkK"
      },
      "source": [
        ".agg() yordamida istalgan funksiyalarni chaqirishimiz mumkin, misol uchun numpy dagi mean (o'rta qiymat) funiksiyasini ham qo'shamiz. Natijalarni faqat price ustuni uchun chiqaramiz:"
      ]
    },
    {
      "cell_type": "markdown",
      "metadata": {
        "id": "ZaAwTY8RHLBB"
      },
      "source": [
        "#### **13-mashq**. Datasetdan jinsiga ko'ra CLAIM_AMOUNTning min, max va o'rta qiymatlarni agg() usuli yordamida toping.\n",
        "\n"
      ]
    },
    {
      "cell_type": "code",
      "metadata": {
        "id": "-X_HduSGH00I",
        "colab": {
          "base_uri": "https://localhost:8080/",
          "height": 143
        },
        "outputId": "780afc3e-9ced-4f16-a893-77afc0c772ff"
      },
      "source": [
        "# Javobni shuyerga yozing\n",
        "df.groupby('SEX')['CLAIM_AMOUNT'].agg([min,max,np.mean])"
      ],
      "execution_count": null,
      "outputs": [
        {
          "output_type": "execute_result",
          "data": {
            "text/html": [
              "<div>\n",
              "<style scoped>\n",
              "    .dataframe tbody tr th:only-of-type {\n",
              "        vertical-align: middle;\n",
              "    }\n",
              "\n",
              "    .dataframe tbody tr th {\n",
              "        vertical-align: top;\n",
              "    }\n",
              "\n",
              "    .dataframe thead th {\n",
              "        text-align: right;\n",
              "    }\n",
              "</style>\n",
              "<table border=\"1\" class=\"dataframe\">\n",
              "  <thead>\n",
              "    <tr style=\"text-align: right;\">\n",
              "      <th></th>\n",
              "      <th>min</th>\n",
              "      <th>max</th>\n",
              "      <th>mean</th>\n",
              "    </tr>\n",
              "    <tr>\n",
              "      <th>SEX</th>\n",
              "      <th></th>\n",
              "      <th></th>\n",
              "      <th></th>\n",
              "    </tr>\n",
              "  </thead>\n",
              "  <tbody>\n",
              "    <tr>\n",
              "      <th>0.0</th>\n",
              "      <td>2</td>\n",
              "      <td>210000</td>\n",
              "      <td>25552.989745</td>\n",
              "    </tr>\n",
              "    <tr>\n",
              "      <th>1.0</th>\n",
              "      <td>2</td>\n",
              "      <td>205000</td>\n",
              "      <td>29634.162939</td>\n",
              "    </tr>\n",
              "  </tbody>\n",
              "</table>\n",
              "</div>"
            ],
            "text/plain": [
              "     min     max          mean\n",
              "SEX                           \n",
              "0.0    2  210000  25552.989745\n",
              "1.0    2  205000  29634.162939"
            ]
          },
          "metadata": {},
          "execution_count": 77
        }
      ]
    },
    {
      "cell_type": "code",
      "metadata": {
        "cellView": "form",
        "id": "3372GXlAHsvB"
      },
      "source": [
        ""
      ],
      "execution_count": null,
      "outputs": []
    }
  ]
}