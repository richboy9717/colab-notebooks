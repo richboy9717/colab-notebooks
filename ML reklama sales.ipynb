{
 "cells": [
  {
   "cell_type": "code",
   "execution_count": 1,
   "metadata": {},
   "outputs": [],
   "source": [
    "import pandas as pd\n",
    "import numpy as np\n",
    "import matplotlib.pyplot as plt\n",
    "import seaborn as sns\n"
   ]
  },
  {
   "cell_type": "code",
   "execution_count": 3,
   "metadata": {},
   "outputs": [
    {
     "data": {
      "text/html": [
       "<div>\n",
       "<style scoped>\n",
       "    .dataframe tbody tr th:only-of-type {\n",
       "        vertical-align: middle;\n",
       "    }\n",
       "\n",
       "    .dataframe tbody tr th {\n",
       "        vertical-align: top;\n",
       "    }\n",
       "\n",
       "    .dataframe thead th {\n",
       "        text-align: right;\n",
       "    }\n",
       "</style>\n",
       "<table border=\"1\" class=\"dataframe\">\n",
       "  <thead>\n",
       "    <tr style=\"text-align: right;\">\n",
       "      <th></th>\n",
       "      <th>TV</th>\n",
       "      <th>Radio</th>\n",
       "      <th>Newspaper</th>\n",
       "      <th>Sales</th>\n",
       "    </tr>\n",
       "  </thead>\n",
       "  <tbody>\n",
       "    <tr>\n",
       "      <th>0</th>\n",
       "      <td>230.1</td>\n",
       "      <td>37.8</td>\n",
       "      <td>69.2</td>\n",
       "      <td>22.1</td>\n",
       "    </tr>\n",
       "    <tr>\n",
       "      <th>1</th>\n",
       "      <td>44.5</td>\n",
       "      <td>39.3</td>\n",
       "      <td>45.1</td>\n",
       "      <td>10.4</td>\n",
       "    </tr>\n",
       "    <tr>\n",
       "      <th>2</th>\n",
       "      <td>17.2</td>\n",
       "      <td>45.9</td>\n",
       "      <td>69.3</td>\n",
       "      <td>12.0</td>\n",
       "    </tr>\n",
       "    <tr>\n",
       "      <th>3</th>\n",
       "      <td>151.5</td>\n",
       "      <td>41.3</td>\n",
       "      <td>58.5</td>\n",
       "      <td>16.5</td>\n",
       "    </tr>\n",
       "    <tr>\n",
       "      <th>4</th>\n",
       "      <td>180.8</td>\n",
       "      <td>10.8</td>\n",
       "      <td>58.4</td>\n",
       "      <td>17.9</td>\n",
       "    </tr>\n",
       "    <tr>\n",
       "      <th>5</th>\n",
       "      <td>8.7</td>\n",
       "      <td>48.9</td>\n",
       "      <td>75.0</td>\n",
       "      <td>7.2</td>\n",
       "    </tr>\n",
       "    <tr>\n",
       "      <th>6</th>\n",
       "      <td>57.5</td>\n",
       "      <td>32.8</td>\n",
       "      <td>23.5</td>\n",
       "      <td>11.8</td>\n",
       "    </tr>\n",
       "    <tr>\n",
       "      <th>7</th>\n",
       "      <td>120.2</td>\n",
       "      <td>19.6</td>\n",
       "      <td>11.6</td>\n",
       "      <td>13.2</td>\n",
       "    </tr>\n",
       "    <tr>\n",
       "      <th>8</th>\n",
       "      <td>8.6</td>\n",
       "      <td>2.1</td>\n",
       "      <td>1.0</td>\n",
       "      <td>4.8</td>\n",
       "    </tr>\n",
       "    <tr>\n",
       "      <th>9</th>\n",
       "      <td>199.8</td>\n",
       "      <td>2.6</td>\n",
       "      <td>21.2</td>\n",
       "      <td>15.6</td>\n",
       "    </tr>\n",
       "    <tr>\n",
       "      <th>10</th>\n",
       "      <td>66.1</td>\n",
       "      <td>5.8</td>\n",
       "      <td>24.2</td>\n",
       "      <td>12.6</td>\n",
       "    </tr>\n",
       "    <tr>\n",
       "      <th>11</th>\n",
       "      <td>214.7</td>\n",
       "      <td>24.0</td>\n",
       "      <td>4.0</td>\n",
       "      <td>17.4</td>\n",
       "    </tr>\n",
       "    <tr>\n",
       "      <th>12</th>\n",
       "      <td>23.8</td>\n",
       "      <td>35.1</td>\n",
       "      <td>65.9</td>\n",
       "      <td>9.2</td>\n",
       "    </tr>\n",
       "    <tr>\n",
       "      <th>13</th>\n",
       "      <td>97.5</td>\n",
       "      <td>7.6</td>\n",
       "      <td>7.2</td>\n",
       "      <td>13.7</td>\n",
       "    </tr>\n",
       "    <tr>\n",
       "      <th>14</th>\n",
       "      <td>204.1</td>\n",
       "      <td>32.9</td>\n",
       "      <td>46.0</td>\n",
       "      <td>19.0</td>\n",
       "    </tr>\n",
       "  </tbody>\n",
       "</table>\n",
       "</div>"
      ],
      "text/plain": [
       "       TV  Radio  Newspaper  Sales\n",
       "0   230.1   37.8       69.2   22.1\n",
       "1    44.5   39.3       45.1   10.4\n",
       "2    17.2   45.9       69.3   12.0\n",
       "3   151.5   41.3       58.5   16.5\n",
       "4   180.8   10.8       58.4   17.9\n",
       "5     8.7   48.9       75.0    7.2\n",
       "6    57.5   32.8       23.5   11.8\n",
       "7   120.2   19.6       11.6   13.2\n",
       "8     8.6    2.1        1.0    4.8\n",
       "9   199.8    2.6       21.2   15.6\n",
       "10   66.1    5.8       24.2   12.6\n",
       "11  214.7   24.0        4.0   17.4\n",
       "12   23.8   35.1       65.9    9.2\n",
       "13   97.5    7.6        7.2   13.7\n",
       "14  204.1   32.9       46.0   19.0"
      ]
     },
     "execution_count": 3,
     "metadata": {},
     "output_type": "execute_result"
    }
   ],
   "source": [
    "df = pd.read_csv('https://raw.githubusercontent.com/anvarnarz/praktikum_datasets/main/reklama_sales.csv')\n",
    "df.head(15)"
   ]
  },
  {
   "cell_type": "code",
   "execution_count": 4,
   "metadata": {},
   "outputs": [
    {
     "name": "stdout",
     "output_type": "stream",
     "text": [
      "<class 'pandas.core.frame.DataFrame'>\n",
      "RangeIndex: 200 entries, 0 to 199\n",
      "Data columns (total 4 columns):\n",
      " #   Column     Non-Null Count  Dtype  \n",
      "---  ------     --------------  -----  \n",
      " 0   TV         200 non-null    float64\n",
      " 1   Radio      200 non-null    float64\n",
      " 2   Newspaper  200 non-null    float64\n",
      " 3   Sales      200 non-null    float64\n",
      "dtypes: float64(4)\n",
      "memory usage: 6.4 KB\n"
     ]
    }
   ],
   "source": [
    "df.info()"
   ]
  },
  {
   "cell_type": "code",
   "execution_count": 5,
   "metadata": {},
   "outputs": [
    {
     "data": {
      "text/html": [
       "<style type=\"text/css\">\n",
       "#T_bc1a5_row0_col0, #T_bc1a5_row1_col1, #T_bc1a5_row2_col2, #T_bc1a5_row3_col3 {\n",
       "  background-color: #b40426;\n",
       "  color: #f1f1f1;\n",
       "}\n",
       "#T_bc1a5_row0_col1, #T_bc1a5_row0_col2, #T_bc1a5_row1_col0, #T_bc1a5_row2_col0, #T_bc1a5_row2_col3 {\n",
       "  background-color: #3b4cc0;\n",
       "  color: #f1f1f1;\n",
       "}\n",
       "#T_bc1a5_row0_col3 {\n",
       "  background-color: #dc5d4a;\n",
       "  color: #f1f1f1;\n",
       "}\n",
       "#T_bc1a5_row1_col2 {\n",
       "  background-color: #a3c2fe;\n",
       "  color: #000000;\n",
       "}\n",
       "#T_bc1a5_row1_col3 {\n",
       "  background-color: #85a8fc;\n",
       "  color: #f1f1f1;\n",
       "}\n",
       "#T_bc1a5_row2_col1 {\n",
       "  background-color: #a5c3fe;\n",
       "  color: #000000;\n",
       "}\n",
       "#T_bc1a5_row3_col0 {\n",
       "  background-color: #d75445;\n",
       "  color: #f1f1f1;\n",
       "}\n",
       "#T_bc1a5_row3_col1 {\n",
       "  background-color: #a2c1ff;\n",
       "  color: #000000;\n",
       "}\n",
       "#T_bc1a5_row3_col2 {\n",
       "  background-color: #5b7ae5;\n",
       "  color: #f1f1f1;\n",
       "}\n",
       "</style>\n",
       "<table id=\"T_bc1a5_\">\n",
       "  <thead>\n",
       "    <tr>\n",
       "      <th class=\"blank level0\" >&nbsp;</th>\n",
       "      <th class=\"col_heading level0 col0\" >TV</th>\n",
       "      <th class=\"col_heading level0 col1\" >Radio</th>\n",
       "      <th class=\"col_heading level0 col2\" >Newspaper</th>\n",
       "      <th class=\"col_heading level0 col3\" >Sales</th>\n",
       "    </tr>\n",
       "  </thead>\n",
       "  <tbody>\n",
       "    <tr>\n",
       "      <th id=\"T_bc1a5_level0_row0\" class=\"row_heading level0 row0\" >TV</th>\n",
       "      <td id=\"T_bc1a5_row0_col0\" class=\"data row0 col0\" >1.000000</td>\n",
       "      <td id=\"T_bc1a5_row0_col1\" class=\"data row0 col1\" >0.054809</td>\n",
       "      <td id=\"T_bc1a5_row0_col2\" class=\"data row0 col2\" >0.056648</td>\n",
       "      <td id=\"T_bc1a5_row0_col3\" class=\"data row0 col3\" >0.901208</td>\n",
       "    </tr>\n",
       "    <tr>\n",
       "      <th id=\"T_bc1a5_level0_row1\" class=\"row_heading level0 row1\" >Radio</th>\n",
       "      <td id=\"T_bc1a5_row1_col0\" class=\"data row1 col0\" >0.054809</td>\n",
       "      <td id=\"T_bc1a5_row1_col1\" class=\"data row1 col1\" >1.000000</td>\n",
       "      <td id=\"T_bc1a5_row1_col2\" class=\"data row1 col2\" >0.354104</td>\n",
       "      <td id=\"T_bc1a5_row1_col3\" class=\"data row1 col3\" >0.349631</td>\n",
       "    </tr>\n",
       "    <tr>\n",
       "      <th id=\"T_bc1a5_level0_row2\" class=\"row_heading level0 row2\" >Newspaper</th>\n",
       "      <td id=\"T_bc1a5_row2_col0\" class=\"data row2 col0\" >0.056648</td>\n",
       "      <td id=\"T_bc1a5_row2_col1\" class=\"data row2 col1\" >0.354104</td>\n",
       "      <td id=\"T_bc1a5_row2_col2\" class=\"data row2 col2\" >1.000000</td>\n",
       "      <td id=\"T_bc1a5_row2_col3\" class=\"data row2 col3\" >0.157960</td>\n",
       "    </tr>\n",
       "    <tr>\n",
       "      <th id=\"T_bc1a5_level0_row3\" class=\"row_heading level0 row3\" >Sales</th>\n",
       "      <td id=\"T_bc1a5_row3_col0\" class=\"data row3 col0\" >0.901208</td>\n",
       "      <td id=\"T_bc1a5_row3_col1\" class=\"data row3 col1\" >0.349631</td>\n",
       "      <td id=\"T_bc1a5_row3_col2\" class=\"data row3 col2\" >0.157960</td>\n",
       "      <td id=\"T_bc1a5_row3_col3\" class=\"data row3 col3\" >1.000000</td>\n",
       "    </tr>\n",
       "  </tbody>\n",
       "</table>\n"
      ],
      "text/plain": [
       "<pandas.io.formats.style.Styler at 0x20e73480af0>"
      ]
     },
     "execution_count": 5,
     "metadata": {},
     "output_type": "execute_result"
    }
   ],
   "source": [
    "df.corr().style.background_gradient(cmap='coolwarm')"
   ]
  },
  {
   "cell_type": "code",
   "execution_count": 6,
   "metadata": {},
   "outputs": [
    {
     "data": {
      "text/plain": [
       "TV           0\n",
       "Radio        0\n",
       "Newspaper    0\n",
       "Sales        0\n",
       "dtype: int64"
      ]
     },
     "execution_count": 6,
     "metadata": {},
     "output_type": "execute_result"
    }
   ],
   "source": [
    "df.isnull().sum()"
   ]
  },
  {
   "cell_type": "code",
   "execution_count": 8,
   "metadata": {},
   "outputs": [
    {
     "data": {
      "text/html": [
       "<style type=\"text/css\">\n",
       "#T_9a28a_row0_col0 {\n",
       "  background-color: #f7b599;\n",
       "  color: #000000;\n",
       "}\n",
       "#T_9a28a_row0_col1, #T_9a28a_row0_col2, #T_9a28a_row0_col3, #T_9a28a_row7_col0 {\n",
       "  background-color: #b40426;\n",
       "  color: #f1f1f1;\n",
       "}\n",
       "#T_9a28a_row1_col0 {\n",
       "  background-color: #dbdcde;\n",
       "  color: #000000;\n",
       "}\n",
       "#T_9a28a_row1_col1, #T_9a28a_row5_col1 {\n",
       "  background-color: #5e7de7;\n",
       "  color: #f1f1f1;\n",
       "}\n",
       "#T_9a28a_row1_col2 {\n",
       "  background-color: #6a8bef;\n",
       "  color: #f1f1f1;\n",
       "}\n",
       "#T_9a28a_row1_col3 {\n",
       "  background-color: #4f69d9;\n",
       "  color: #f1f1f1;\n",
       "}\n",
       "#T_9a28a_row2_col0 {\n",
       "  background-color: #9abbff;\n",
       "  color: #000000;\n",
       "}\n",
       "#T_9a28a_row2_col1 {\n",
       "  background-color: #516ddb;\n",
       "  color: #f1f1f1;\n",
       "}\n",
       "#T_9a28a_row2_col2 {\n",
       "  background-color: #5b7ae5;\n",
       "  color: #f1f1f1;\n",
       "}\n",
       "#T_9a28a_row2_col3 {\n",
       "  background-color: #3f53c6;\n",
       "  color: #f1f1f1;\n",
       "}\n",
       "#T_9a28a_row3_col0, #T_9a28a_row3_col1, #T_9a28a_row3_col2, #T_9a28a_row3_col3 {\n",
       "  background-color: #3b4cc0;\n",
       "  color: #f1f1f1;\n",
       "}\n",
       "#T_9a28a_row4_col0, #T_9a28a_row7_col1 {\n",
       "  background-color: #8caffe;\n",
       "  color: #000000;\n",
       "}\n",
       "#T_9a28a_row4_col1, #T_9a28a_row4_col3 {\n",
       "  background-color: #4961d2;\n",
       "  color: #f1f1f1;\n",
       "}\n",
       "#T_9a28a_row4_col2 {\n",
       "  background-color: #4c66d6;\n",
       "  color: #f1f1f1;\n",
       "}\n",
       "#T_9a28a_row5_col0 {\n",
       "  background-color: #dedcdb;\n",
       "  color: #000000;\n",
       "}\n",
       "#T_9a28a_row5_col2, #T_9a28a_row7_col3 {\n",
       "  background-color: #6282ea;\n",
       "  color: #f1f1f1;\n",
       "}\n",
       "#T_9a28a_row5_col3 {\n",
       "  background-color: #506bda;\n",
       "  color: #f1f1f1;\n",
       "}\n",
       "#T_9a28a_row6_col0 {\n",
       "  background-color: #f59f80;\n",
       "  color: #000000;\n",
       "}\n",
       "#T_9a28a_row6_col1 {\n",
       "  background-color: #7597f6;\n",
       "  color: #f1f1f1;\n",
       "}\n",
       "#T_9a28a_row6_col2 {\n",
       "  background-color: #84a7fc;\n",
       "  color: #f1f1f1;\n",
       "}\n",
       "#T_9a28a_row6_col3 {\n",
       "  background-color: #5572df;\n",
       "  color: #f1f1f1;\n",
       "}\n",
       "#T_9a28a_row7_col2 {\n",
       "  background-color: #edd2c3;\n",
       "  color: #000000;\n",
       "}\n",
       "</style>\n",
       "<table id=\"T_9a28a_\">\n",
       "  <thead>\n",
       "    <tr>\n",
       "      <th class=\"blank level0\" >&nbsp;</th>\n",
       "      <th class=\"col_heading level0 col0\" >TV</th>\n",
       "      <th class=\"col_heading level0 col1\" >Radio</th>\n",
       "      <th class=\"col_heading level0 col2\" >Newspaper</th>\n",
       "      <th class=\"col_heading level0 col3\" >Sales</th>\n",
       "    </tr>\n",
       "  </thead>\n",
       "  <tbody>\n",
       "    <tr>\n",
       "      <th id=\"T_9a28a_level0_row0\" class=\"row_heading level0 row0\" >count</th>\n",
       "      <td id=\"T_9a28a_row0_col0\" class=\"data row0 col0\" >200.000000</td>\n",
       "      <td id=\"T_9a28a_row0_col1\" class=\"data row0 col1\" >200.000000</td>\n",
       "      <td id=\"T_9a28a_row0_col2\" class=\"data row0 col2\" >200.000000</td>\n",
       "      <td id=\"T_9a28a_row0_col3\" class=\"data row0 col3\" >200.000000</td>\n",
       "    </tr>\n",
       "    <tr>\n",
       "      <th id=\"T_9a28a_level0_row1\" class=\"row_heading level0 row1\" >mean</th>\n",
       "      <td id=\"T_9a28a_row1_col0\" class=\"data row1 col0\" >147.042500</td>\n",
       "      <td id=\"T_9a28a_row1_col1\" class=\"data row1 col1\" >23.264000</td>\n",
       "      <td id=\"T_9a28a_row1_col2\" class=\"data row1 col2\" >30.554000</td>\n",
       "      <td id=\"T_9a28a_row1_col3\" class=\"data row1 col3\" >15.130500</td>\n",
       "    </tr>\n",
       "    <tr>\n",
       "      <th id=\"T_9a28a_level0_row2\" class=\"row_heading level0 row2\" >std</th>\n",
       "      <td id=\"T_9a28a_row2_col0\" class=\"data row2 col0\" >85.854236</td>\n",
       "      <td id=\"T_9a28a_row2_col1\" class=\"data row2 col1\" >14.846809</td>\n",
       "      <td id=\"T_9a28a_row2_col2\" class=\"data row2 col2\" >21.778621</td>\n",
       "      <td id=\"T_9a28a_row2_col3\" class=\"data row2 col3\" >5.283892</td>\n",
       "    </tr>\n",
       "    <tr>\n",
       "      <th id=\"T_9a28a_level0_row3\" class=\"row_heading level0 row3\" >min</th>\n",
       "      <td id=\"T_9a28a_row3_col0\" class=\"data row3 col0\" >0.700000</td>\n",
       "      <td id=\"T_9a28a_row3_col1\" class=\"data row3 col1\" >0.000000</td>\n",
       "      <td id=\"T_9a28a_row3_col2\" class=\"data row3 col2\" >0.300000</td>\n",
       "      <td id=\"T_9a28a_row3_col3\" class=\"data row3 col3\" >1.600000</td>\n",
       "    </tr>\n",
       "    <tr>\n",
       "      <th id=\"T_9a28a_level0_row4\" class=\"row_heading level0 row4\" >25%</th>\n",
       "      <td id=\"T_9a28a_row4_col0\" class=\"data row4 col0\" >74.375000</td>\n",
       "      <td id=\"T_9a28a_row4_col1\" class=\"data row4 col1\" >9.975000</td>\n",
       "      <td id=\"T_9a28a_row4_col2\" class=\"data row4 col2\" >12.750000</td>\n",
       "      <td id=\"T_9a28a_row4_col3\" class=\"data row4 col3\" >11.000000</td>\n",
       "    </tr>\n",
       "    <tr>\n",
       "      <th id=\"T_9a28a_level0_row5\" class=\"row_heading level0 row5\" >50%</th>\n",
       "      <td id=\"T_9a28a_row5_col0\" class=\"data row5 col0\" >149.750000</td>\n",
       "      <td id=\"T_9a28a_row5_col1\" class=\"data row5 col1\" >22.900000</td>\n",
       "      <td id=\"T_9a28a_row5_col2\" class=\"data row5 col2\" >25.750000</td>\n",
       "      <td id=\"T_9a28a_row5_col3\" class=\"data row5 col3\" >16.000000</td>\n",
       "    </tr>\n",
       "    <tr>\n",
       "      <th id=\"T_9a28a_level0_row6\" class=\"row_heading level0 row6\" >75%</th>\n",
       "      <td id=\"T_9a28a_row6_col0\" class=\"data row6 col0\" >218.825000</td>\n",
       "      <td id=\"T_9a28a_row6_col1\" class=\"data row6 col1\" >36.525000</td>\n",
       "      <td id=\"T_9a28a_row6_col2\" class=\"data row6 col2\" >45.100000</td>\n",
       "      <td id=\"T_9a28a_row6_col3\" class=\"data row6 col3\" >19.050000</td>\n",
       "    </tr>\n",
       "    <tr>\n",
       "      <th id=\"T_9a28a_level0_row7\" class=\"row_heading level0 row7\" >max</th>\n",
       "      <td id=\"T_9a28a_row7_col0\" class=\"data row7 col0\" >296.400000</td>\n",
       "      <td id=\"T_9a28a_row7_col1\" class=\"data row7 col1\" >49.600000</td>\n",
       "      <td id=\"T_9a28a_row7_col2\" class=\"data row7 col2\" >114.000000</td>\n",
       "      <td id=\"T_9a28a_row7_col3\" class=\"data row7 col3\" >27.000000</td>\n",
       "    </tr>\n",
       "  </tbody>\n",
       "</table>\n"
      ],
      "text/plain": [
       "<pandas.io.formats.style.Styler at 0x20e6e290ee0>"
      ]
     },
     "execution_count": 8,
     "metadata": {},
     "output_type": "execute_result"
    }
   ],
   "source": [
    "df.describe().style.background_gradient(cmap='coolwarm')"
   ]
  },
  {
   "cell_type": "code",
   "execution_count": 11,
   "metadata": {},
   "outputs": [
    {
     "data": {
      "text/plain": [
       "(200, 4)"
      ]
     },
     "execution_count": 11,
     "metadata": {},
     "output_type": "execute_result"
    }
   ],
   "source": [
    "df.shape"
   ]
  },
  {
   "cell_type": "code",
   "execution_count": 19,
   "metadata": {},
   "outputs": [
    {
     "data": {
      "text/plain": [
       "<AxesSubplot:xlabel='Sales', ylabel='TV'>"
      ]
     },
     "execution_count": 19,
     "metadata": {},
     "output_type": "execute_result"
    },
    {
     "data": {
      "image/png": "[encoded data removed]",
      "text/plain": [
       "<Figure size 720x720 with 1 Axes>"
      ]
     },
     "metadata": {
      "needs_background": "light"
     },
     "output_type": "display_data"
    }
   ],
   "source": [
    "plt.figure(figsize=(10,10))\n",
    "sns.regplot(x='Sales', y='TV', data=df, fit_reg=True, marker='+', scatter_kws={'s':100}, color='red')"
   ]
  },
  {
   "cell_type": "code",
   "execution_count": 12,
   "metadata": {},
   "outputs": [],
   "source": [
    "from sklearn.model_selection import train_test_split\n",
    "train_set, test_set = train_test_split(df, test_size=0.2, random_state=1)"
   ]
  },
  {
   "cell_type": "code",
   "execution_count": 25,
   "metadata": {},
   "outputs": [
    {
     "name": "stdout",
     "output_type": "stream",
     "text": [
      "theta1 = 0.056439836052706624\n",
      "theta0 = 6.819034628470243\n"
     ]
    }
   ],
   "source": [
    "from sklearn import linear_model\n",
    "LR_model = linear_model.LinearRegression()\n",
    "\n",
    "x_train = np.asanyarray(train_set[['TV']])\n",
    "y_train = np.asanyarray(train_set[['Sales']])\n",
    "\n",
    "#train the model\n",
    "LR_model.fit(x_train, y_train)\n",
    "\n",
    "# theta0 and theta1 koeffisentlarni ajratib olamiz\n",
    "theta1 = LR_model.coef_[0][0]\n",
    "theta0 = LR_model.intercept_[0]\n",
    "print(f'theta1 = {theta1}')\n",
    "print(f'theta0 = {theta0}')"
   ]
  },
  {
   "cell_type": "code",
   "execution_count": 27,
   "metadata": {},
   "outputs": [
    {
     "data": {
      "image/png": "[encoded data removed]",
      "text/plain": [
       "<Figure size 720x432 with 1 Axes>"
      ]
     },
     "metadata": {
      "needs_background": "light"
     },
     "output_type": "display_data"
    }
   ],
   "source": [
    "plt.figure(figsize=(10,6))\n",
    "sns.scatterplot(data=df, x='TV', y='Sales', color='red')\n",
    "plt.plot(x_train, theta1*x_train + theta0, '-r')\n",
    "plt.xlabel('TV')\n",
    "plt.ylabel('Sales')\n",
    "plt.show()"
   ]
  },
  {
   "cell_type": "code",
   "execution_count": 29,
   "metadata": {},
   "outputs": [],
   "source": [
    "x_test = np.asanyarray(test_set[['TV']])\n",
    "y_test = np.asanyarray(test_set[['Sales']])"
   ]
  },
  {
   "cell_type": "code",
   "execution_count": 31,
   "metadata": {},
   "outputs": [],
   "source": [
    "y_predict = LR_model.predict(x_test)"
   ]
  },
  {
   "cell_type": "code",
   "execution_count": 32,
   "metadata": {},
   "outputs": [
    {
     "name": "stdout",
     "output_type": "stream",
     "text": [
      "MSE = 5.304256414232314\n",
      "MAE = 1.9042820838267638\n"
     ]
    }
   ],
   "source": [
    "from sklearn.metrics import mean_squared_error, mean_absolute_error\n",
    "\n",
    "print(f'MSE = {mean_squared_error(y_test, y_predict)}')\n",
    "print(f'MAE = {mean_absolute_error(y_test, y_predict)}')"
   ]
  },
  {
   "cell_type": "code",
   "execution_count": null,
   "metadata": {},
   "outputs": [],
   "source": []
  }
 ],
 "metadata": {
  "interpreter": {
   "hash": "647d274f4d5cd4bdb1ca77790630c8a2cb6a5564e3f6b2637fb7ff8cecb10889"
  },
  "kernelspec": {
   "display_name": "Python 3.9.7 ('base')",
   "language": "python",
   "name": "python3"
  },
  "language_info": {
   "codemirror_mode": {
    "name": "ipython",
    "version": 3
   },
   "file_extension": ".py",
   "mimetype": "text/x-python",
   "name": "python",
   "nbconvert_exporter": "python",
   "pygments_lexer": "ipython3",
   "version": "3.9.7"
  },
  "orig_nbformat": 4
 },
 "nbformat": 4,
 "nbformat_minor": 2
}
